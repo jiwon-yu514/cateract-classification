{
  "cells": [
    {
      "cell_type": "markdown",
      "metadata": {
        "id": "view-in-github",
        "colab_type": "text"
      },
      "source": [
        "<a href=\"https://colab.research.google.com/github/jiwon-yu514/cateract-classification/blob/main/codes/chap02/pulsar.ipynb\" target=\"_parent\"><img src=\"https://colab.research.google.com/assets/colab-badge.svg\" alt=\"Open In Colab\"/></a>"
      ]
    },
    {
      "cell_type": "code",
      "source": [
        "import numpy as np\n",
        "import pandas as pd\n",
        "import os\n",
        "from google.colab import drive\n",
        "import csv\n",
        "\n",
        "github_url = 'https://github.com/konantechnology/academy.alzza.git'\n",
        "repo_name = os.path.basename(github_url.rstrip('/'))\n",
        "\n",
        "!git clone $github_url\n",
        "drive.mount('/content/drive')"
      ],
      "metadata": {
        "id": "pXcXRjAJIz_Y"
      },
      "execution_count": null,
      "outputs": []
    },
    {
      "cell_type": "code",
      "source": [
        "print(os.getcwd()) #현재 작업 디렉토리 출력\n",
        "#os.chdir('/원하는/디렉토리/경로')"
      ],
      "metadata": {
        "id": "lZXKaAz0Izng"
      },
      "execution_count": null,
      "outputs": []
    },
    {
      "cell_type": "code",
      "execution_count": null,
      "metadata": {
        "id": "qI_3E08WIzFD"
      },
      "outputs": [],
      "source": [
        "%run ../chap01/abalone.ipynb"
      ]
    },
    {
      "cell_type": "code",
      "execution_count": null,
      "metadata": {
        "id": "2oHaaid2IzFD"
      },
      "outputs": [],
      "source": [
        "def pulsar_exec(epoch_count=10, mb_size=10, report=1):\n",
        "    load_pulsar_dataset()\n",
        "    init_model()\n",
        "    train_and_test(epoch_count, mb_size, report)"
      ]
    },
    {
      "cell_type": "code",
      "execution_count": null,
      "metadata": {
        "id": "vNL-EqeOIzFE"
      },
      "outputs": [],
      "source": [
        "def load_pulsar_dataset():\n",
        "    with open('../../data/chap02/pulsar_stars.csv') as csvfile:\n",
        "        csvreader = csv.reader(csvfile)\n",
        "        next(csvreader, None)\n",
        "        rows = []\n",
        "        for row in csvreader:\n",
        "            rows.append(row)\n",
        "\n",
        "    global data, input_cnt, output_cnt\n",
        "    input_cnt, output_cnt = 8, 1\n",
        "    data = np.asarray(rows, dtype='float32')"
      ]
    },
    {
      "cell_type": "code",
      "execution_count": null,
      "metadata": {
        "id": "NMlKhm_nIzFE"
      },
      "outputs": [],
      "source": [
        "def forward_postproc(output, y):\n",
        "    entropy = sigmoid_cross_entropy_with_logits(y, output)\n",
        "    loss = np.mean(entropy)\n",
        "    return loss, [y, output, entropy]\n",
        "\n",
        "def backprop_postproc(G_loss, aux):\n",
        "    y, output, entropy = aux\n",
        "\n",
        "    g_loss_entropy = 1.0 / np.prod(entropy.shape)\n",
        "    g_entropy_output = sigmoid_cross_entropy_with_logits_derv(y, output)\n",
        "\n",
        "    G_entropy = g_loss_entropy * G_loss\n",
        "    G_output = g_entropy_output * G_entropy\n",
        "\n",
        "    return G_output"
      ]
    },
    {
      "cell_type": "code",
      "execution_count": null,
      "metadata": {
        "id": "1sV2z0s0IzFE"
      },
      "outputs": [],
      "source": [
        "def eval_accuracy(output, y):\n",
        "    estimate = np.greater(output, 0)\n",
        "    answer = np.greater(y, 0.5)\n",
        "    correct = np.equal(estimate, answer)\n",
        "\n",
        "    return np.mean(correct)"
      ]
    },
    {
      "cell_type": "code",
      "execution_count": null,
      "metadata": {
        "id": "fRpxnjuJIzFE"
      },
      "outputs": [],
      "source": [
        "def relu(x):\n",
        "    return np.maximum(x, 0)\n",
        "\n",
        "def sigmoid(x):\n",
        "    return np.exp(-relu(-x)) / (1.0 + np.exp(-np.abs(x)))\n",
        "\n",
        "def sigmoid_derv(x, y):\n",
        "    return y * (1 - y)\n",
        "\n",
        "def sigmoid_cross_entropy_with_logits(z, x):\n",
        "    return relu(x) - x * z + np.log(1 + np.exp(-np.abs(x)))\n",
        "\n",
        "def sigmoid_cross_entropy_with_logits_derv(z, x):\n",
        "    return -z + sigmoid(x)"
      ]
    }
  ],
  "metadata": {
    "kernelspec": {
      "display_name": "Python 3",
      "language": "python",
      "name": "python3"
    },
    "language_info": {
      "codemirror_mode": {
        "name": "ipython",
        "version": 3
      },
      "file_extension": ".py",
      "mimetype": "text/x-python",
      "name": "python",
      "nbconvert_exporter": "python",
      "pygments_lexer": "ipython3",
      "version": "3.4.3"
    },
    "colab": {
      "provenance": [],
      "include_colab_link": true
    }
  },
  "nbformat": 4,
  "nbformat_minor": 0
}